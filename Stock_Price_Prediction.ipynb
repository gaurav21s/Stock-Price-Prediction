{
  "nbformat": 4,
  "nbformat_minor": 0,
  "metadata": {
    "colab": {
      "name": "Stock Price Prediction",
      "provenance": [],
      "collapsed_sections": []
    },
    "kernelspec": {
      "name": "python3",
      "display_name": "Python 3"
    }
  },
  "cells": [
    {
      "cell_type": "code",
      "metadata": {
        "id": "Lty8zdRmYZFK"
      },
      "source": [
        "import quandl\r\n",
        "import pandas as pd\r\n",
        "import numpy as np\r\n",
        "df = quandl.get(\"EOD/AAPL\", authtoken=\"ea6wxDsEqnBF_V_oQ13N\")"
      ],
      "execution_count": 43,
      "outputs": []
    },
    {
      "cell_type": "code",
      "metadata": {
        "colab": {
          "base_uri": "https://localhost:8080/",
          "height": 225
        },
        "id": "bWvABvb-YY65",
        "outputId": "d6c1d9c9-4ac7-4e84-8e56-e35059fc51a3"
      },
      "source": [
        "df.head()"
      ],
      "execution_count": 44,
      "outputs": [
        {
          "output_type": "execute_result",
          "data": {
            "text/html": [
              "<div>\n",
              "<style scoped>\n",
              "    .dataframe tbody tr th:only-of-type {\n",
              "        vertical-align: middle;\n",
              "    }\n",
              "\n",
              "    .dataframe tbody tr th {\n",
              "        vertical-align: top;\n",
              "    }\n",
              "\n",
              "    .dataframe thead th {\n",
              "        text-align: right;\n",
              "    }\n",
              "</style>\n",
              "<table border=\"1\" class=\"dataframe\">\n",
              "  <thead>\n",
              "    <tr style=\"text-align: right;\">\n",
              "      <th></th>\n",
              "      <th>Open</th>\n",
              "      <th>High</th>\n",
              "      <th>Low</th>\n",
              "      <th>Close</th>\n",
              "      <th>Volume</th>\n",
              "      <th>Dividend</th>\n",
              "      <th>Split</th>\n",
              "      <th>Adj_Open</th>\n",
              "      <th>Adj_High</th>\n",
              "      <th>Adj_Low</th>\n",
              "      <th>Adj_Close</th>\n",
              "      <th>Adj_Volume</th>\n",
              "    </tr>\n",
              "    <tr>\n",
              "      <th>Date</th>\n",
              "      <th></th>\n",
              "      <th></th>\n",
              "      <th></th>\n",
              "      <th></th>\n",
              "      <th></th>\n",
              "      <th></th>\n",
              "      <th></th>\n",
              "      <th></th>\n",
              "      <th></th>\n",
              "      <th></th>\n",
              "      <th></th>\n",
              "      <th></th>\n",
              "    </tr>\n",
              "  </thead>\n",
              "  <tbody>\n",
              "    <tr>\n",
              "      <th>2013-09-03</th>\n",
              "      <td>493.10</td>\n",
              "      <td>500.60</td>\n",
              "      <td>487.35</td>\n",
              "      <td>488.580</td>\n",
              "      <td>11854600.0</td>\n",
              "      <td>0.0</td>\n",
              "      <td>1.0</td>\n",
              "      <td>15.619650</td>\n",
              "      <td>15.857223</td>\n",
              "      <td>15.437510</td>\n",
              "      <td>15.476472</td>\n",
              "      <td>331928800.0</td>\n",
              "    </tr>\n",
              "    <tr>\n",
              "      <th>2013-09-04</th>\n",
              "      <td>499.56</td>\n",
              "      <td>502.24</td>\n",
              "      <td>496.28</td>\n",
              "      <td>498.691</td>\n",
              "      <td>12322600.0</td>\n",
              "      <td>0.0</td>\n",
              "      <td>1.0</td>\n",
              "      <td>15.824280</td>\n",
              "      <td>15.909173</td>\n",
              "      <td>15.720381</td>\n",
              "      <td>15.796753</td>\n",
              "      <td>345032800.0</td>\n",
              "    </tr>\n",
              "    <tr>\n",
              "      <th>2013-09-05</th>\n",
              "      <td>500.25</td>\n",
              "      <td>500.68</td>\n",
              "      <td>493.64</td>\n",
              "      <td>495.270</td>\n",
              "      <td>8441700.0</td>\n",
              "      <td>0.0</td>\n",
              "      <td>1.0</td>\n",
              "      <td>15.846136</td>\n",
              "      <td>15.859757</td>\n",
              "      <td>15.636755</td>\n",
              "      <td>15.688388</td>\n",
              "      <td>236367600.0</td>\n",
              "    </tr>\n",
              "    <tr>\n",
              "      <th>2013-09-06</th>\n",
              "      <td>498.44</td>\n",
              "      <td>499.38</td>\n",
              "      <td>489.95</td>\n",
              "      <td>498.220</td>\n",
              "      <td>12840200.0</td>\n",
              "      <td>0.0</td>\n",
              "      <td>1.0</td>\n",
              "      <td>15.788802</td>\n",
              "      <td>15.818578</td>\n",
              "      <td>15.519869</td>\n",
              "      <td>15.781833</td>\n",
              "      <td>359525600.0</td>\n",
              "    </tr>\n",
              "    <tr>\n",
              "      <th>2013-09-09</th>\n",
              "      <td>505.00</td>\n",
              "      <td>507.92</td>\n",
              "      <td>503.48</td>\n",
              "      <td>506.170</td>\n",
              "      <td>12167400.0</td>\n",
              "      <td>0.0</td>\n",
              "      <td>1.0</td>\n",
              "      <td>15.996600</td>\n",
              "      <td>16.089095</td>\n",
              "      <td>15.948451</td>\n",
              "      <td>16.033661</td>\n",
              "      <td>340687200.0</td>\n",
              "    </tr>\n",
              "  </tbody>\n",
              "</table>\n",
              "</div>"
            ],
            "text/plain": [
              "              Open    High     Low  ...    Adj_Low  Adj_Close   Adj_Volume\n",
              "Date                                ...                                   \n",
              "2013-09-03  493.10  500.60  487.35  ...  15.437510  15.476472  331928800.0\n",
              "2013-09-04  499.56  502.24  496.28  ...  15.720381  15.796753  345032800.0\n",
              "2013-09-05  500.25  500.68  493.64  ...  15.636755  15.688388  236367600.0\n",
              "2013-09-06  498.44  499.38  489.95  ...  15.519869  15.781833  359525600.0\n",
              "2013-09-09  505.00  507.92  503.48  ...  15.948451  16.033661  340687200.0\n",
              "\n",
              "[5 rows x 12 columns]"
            ]
          },
          "metadata": {
            "tags": []
          },
          "execution_count": 44
        }
      ]
    },
    {
      "cell_type": "code",
      "metadata": {
        "id": "J_V_xbhKYYg2"
      },
      "source": [
        "df['HL_PCT']=(df['Adj_High']- df['Adj_Low'])/df['Adj_Close'] * 100.0\r\n",
        "df['PCT_Change']=(df['Adj_Close']-df['Adj_Open'])/df['Adj_Open'] * 100.0"
      ],
      "execution_count": 45,
      "outputs": []
    },
    {
      "cell_type": "code",
      "metadata": {
        "colab": {
          "base_uri": "https://localhost:8080/",
          "height": 225
        },
        "id": "je6_DLIDg_kp",
        "outputId": "37d9b72a-ae2d-4169-e50f-2ae176097598"
      },
      "source": [
        "df.tail()"
      ],
      "execution_count": 46,
      "outputs": [
        {
          "output_type": "execute_result",
          "data": {
            "text/html": [
              "<div>\n",
              "<style scoped>\n",
              "    .dataframe tbody tr th:only-of-type {\n",
              "        vertical-align: middle;\n",
              "    }\n",
              "\n",
              "    .dataframe tbody tr th {\n",
              "        vertical-align: top;\n",
              "    }\n",
              "\n",
              "    .dataframe thead th {\n",
              "        text-align: right;\n",
              "    }\n",
              "</style>\n",
              "<table border=\"1\" class=\"dataframe\">\n",
              "  <thead>\n",
              "    <tr style=\"text-align: right;\">\n",
              "      <th></th>\n",
              "      <th>Open</th>\n",
              "      <th>High</th>\n",
              "      <th>Low</th>\n",
              "      <th>Close</th>\n",
              "      <th>Volume</th>\n",
              "      <th>Dividend</th>\n",
              "      <th>Split</th>\n",
              "      <th>Adj_Open</th>\n",
              "      <th>Adj_High</th>\n",
              "      <th>Adj_Low</th>\n",
              "      <th>Adj_Close</th>\n",
              "      <th>Adj_Volume</th>\n",
              "      <th>HL_PCT</th>\n",
              "      <th>PCT_Change</th>\n",
              "    </tr>\n",
              "    <tr>\n",
              "      <th>Date</th>\n",
              "      <th></th>\n",
              "      <th></th>\n",
              "      <th></th>\n",
              "      <th></th>\n",
              "      <th></th>\n",
              "      <th></th>\n",
              "      <th></th>\n",
              "      <th></th>\n",
              "      <th></th>\n",
              "      <th></th>\n",
              "      <th></th>\n",
              "      <th></th>\n",
              "      <th></th>\n",
              "      <th></th>\n",
              "    </tr>\n",
              "  </thead>\n",
              "  <tbody>\n",
              "    <tr>\n",
              "      <th>2017-12-21</th>\n",
              "      <td>174.17</td>\n",
              "      <td>176.020</td>\n",
              "      <td>174.100</td>\n",
              "      <td>175.01</td>\n",
              "      <td>20949896.0</td>\n",
              "      <td>0.0</td>\n",
              "      <td>1.0</td>\n",
              "      <td>41.899570</td>\n",
              "      <td>42.344619</td>\n",
              "      <td>41.882730</td>\n",
              "      <td>42.101646</td>\n",
              "      <td>83799584.0</td>\n",
              "      <td>1.097080</td>\n",
              "      <td>0.482287</td>\n",
              "    </tr>\n",
              "    <tr>\n",
              "      <th>2017-12-22</th>\n",
              "      <td>174.68</td>\n",
              "      <td>175.424</td>\n",
              "      <td>174.500</td>\n",
              "      <td>175.01</td>\n",
              "      <td>16349444.0</td>\n",
              "      <td>0.0</td>\n",
              "      <td>1.0</td>\n",
              "      <td>42.022259</td>\n",
              "      <td>42.201241</td>\n",
              "      <td>41.978957</td>\n",
              "      <td>42.101646</td>\n",
              "      <td>65397776.0</td>\n",
              "      <td>0.527970</td>\n",
              "      <td>0.188917</td>\n",
              "    </tr>\n",
              "    <tr>\n",
              "      <th>2017-12-26</th>\n",
              "      <td>170.80</td>\n",
              "      <td>171.470</td>\n",
              "      <td>169.679</td>\n",
              "      <td>170.57</td>\n",
              "      <td>33185536.0</td>\n",
              "      <td>0.0</td>\n",
              "      <td>1.0</td>\n",
              "      <td>41.088858</td>\n",
              "      <td>41.250038</td>\n",
              "      <td>40.819183</td>\n",
              "      <td>41.033528</td>\n",
              "      <td>132742144.0</td>\n",
              "      <td>1.050009</td>\n",
              "      <td>-0.134660</td>\n",
              "    </tr>\n",
              "    <tr>\n",
              "      <th>2017-12-27</th>\n",
              "      <td>170.10</td>\n",
              "      <td>170.780</td>\n",
              "      <td>169.710</td>\n",
              "      <td>170.60</td>\n",
              "      <td>21498213.0</td>\n",
              "      <td>0.0</td>\n",
              "      <td>1.0</td>\n",
              "      <td>40.920461</td>\n",
              "      <td>41.084047</td>\n",
              "      <td>40.826640</td>\n",
              "      <td>41.040745</td>\n",
              "      <td>85992852.0</td>\n",
              "      <td>0.627198</td>\n",
              "      <td>0.293945</td>\n",
              "    </tr>\n",
              "    <tr>\n",
              "      <th>2017-12-28</th>\n",
              "      <td>171.00</td>\n",
              "      <td>171.850</td>\n",
              "      <td>170.480</td>\n",
              "      <td>171.08</td>\n",
              "      <td>16480187.0</td>\n",
              "      <td>0.0</td>\n",
              "      <td>1.0</td>\n",
              "      <td>41.136972</td>\n",
              "      <td>41.341454</td>\n",
              "      <td>41.011877</td>\n",
              "      <td>41.156217</td>\n",
              "      <td>65920748.0</td>\n",
              "      <td>0.800795</td>\n",
              "      <td>0.046784</td>\n",
              "    </tr>\n",
              "  </tbody>\n",
              "</table>\n",
              "</div>"
            ],
            "text/plain": [
              "              Open     High      Low  ...   Adj_Volume    HL_PCT  PCT_Change\n",
              "Date                                  ...                                   \n",
              "2017-12-21  174.17  176.020  174.100  ...   83799584.0  1.097080    0.482287\n",
              "2017-12-22  174.68  175.424  174.500  ...   65397776.0  0.527970    0.188917\n",
              "2017-12-26  170.80  171.470  169.679  ...  132742144.0  1.050009   -0.134660\n",
              "2017-12-27  170.10  170.780  169.710  ...   85992852.0  0.627198    0.293945\n",
              "2017-12-28  171.00  171.850  170.480  ...   65920748.0  0.800795    0.046784\n",
              "\n",
              "[5 rows x 14 columns]"
            ]
          },
          "metadata": {
            "tags": []
          },
          "execution_count": 46
        }
      ]
    },
    {
      "cell_type": "code",
      "metadata": {
        "colab": {
          "base_uri": "https://localhost:8080/",
          "height": 284
        },
        "id": "yuXxRPUijFxO",
        "outputId": "0a802334-c7ea-4065-ff97-571a4eb4472a"
      },
      "source": [
        "df.describe()"
      ],
      "execution_count": 47,
      "outputs": [
        {
          "output_type": "execute_result",
          "data": {
            "text/html": [
              "<div>\n",
              "<style scoped>\n",
              "    .dataframe tbody tr th:only-of-type {\n",
              "        vertical-align: middle;\n",
              "    }\n",
              "\n",
              "    .dataframe tbody tr th {\n",
              "        vertical-align: top;\n",
              "    }\n",
              "\n",
              "    .dataframe thead th {\n",
              "        text-align: right;\n",
              "    }\n",
              "</style>\n",
              "<table border=\"1\" class=\"dataframe\">\n",
              "  <thead>\n",
              "    <tr style=\"text-align: right;\">\n",
              "      <th></th>\n",
              "      <th>Open</th>\n",
              "      <th>High</th>\n",
              "      <th>Low</th>\n",
              "      <th>Close</th>\n",
              "      <th>Volume</th>\n",
              "      <th>Dividend</th>\n",
              "      <th>Split</th>\n",
              "      <th>Adj_Open</th>\n",
              "      <th>Adj_High</th>\n",
              "      <th>Adj_Low</th>\n",
              "      <th>Adj_Close</th>\n",
              "      <th>Adj_Volume</th>\n",
              "      <th>HL_PCT</th>\n",
              "      <th>PCT_Change</th>\n",
              "    </tr>\n",
              "  </thead>\n",
              "  <tbody>\n",
              "    <tr>\n",
              "      <th>count</th>\n",
              "      <td>1090.000000</td>\n",
              "      <td>1090.000000</td>\n",
              "      <td>1090.000000</td>\n",
              "      <td>1090.000000</td>\n",
              "      <td>1.090000e+03</td>\n",
              "      <td>1090.000000</td>\n",
              "      <td>1090.000000</td>\n",
              "      <td>1090.000000</td>\n",
              "      <td>1090.000000</td>\n",
              "      <td>1090.000000</td>\n",
              "      <td>1090.000000</td>\n",
              "      <td>1.090000e+03</td>\n",
              "      <td>1090.000000</td>\n",
              "      <td>1090.000000</td>\n",
              "    </tr>\n",
              "    <tr>\n",
              "      <th>mean</th>\n",
              "      <td>194.564537</td>\n",
              "      <td>196.114735</td>\n",
              "      <td>193.016676</td>\n",
              "      <td>194.613130</td>\n",
              "      <td>3.605114e+07</td>\n",
              "      <td>0.015642</td>\n",
              "      <td>1.005505</td>\n",
              "      <td>26.367551</td>\n",
              "      <td>26.578236</td>\n",
              "      <td>26.152043</td>\n",
              "      <td>26.373196</td>\n",
              "      <td>1.931334e+08</td>\n",
              "      <td>1.649472</td>\n",
              "      <td>0.026796</td>\n",
              "    </tr>\n",
              "    <tr>\n",
              "      <th>std</th>\n",
              "      <td>160.562848</td>\n",
              "      <td>161.812898</td>\n",
              "      <td>159.407381</td>\n",
              "      <td>160.647536</td>\n",
              "      <td>2.194473e+07</td>\n",
              "      <td>0.175122</td>\n",
              "      <td>0.181735</td>\n",
              "      <td>6.614490</td>\n",
              "      <td>6.640870</td>\n",
              "      <td>6.578682</td>\n",
              "      <td>6.616455</td>\n",
              "      <td>1.112891e+08</td>\n",
              "      <td>0.972525</td>\n",
              "      <td>1.147303</td>\n",
              "    </tr>\n",
              "    <tr>\n",
              "      <th>min</th>\n",
              "      <td>90.000000</td>\n",
              "      <td>90.700000</td>\n",
              "      <td>89.470000</td>\n",
              "      <td>90.280000</td>\n",
              "      <td>5.704900e+06</td>\n",
              "      <td>0.000000</td>\n",
              "      <td>1.000000</td>\n",
              "      <td>14.189776</td>\n",
              "      <td>14.561974</td>\n",
              "      <td>14.166335</td>\n",
              "      <td>14.258197</td>\n",
              "      <td>4.590369e+07</td>\n",
              "      <td>0.438218</td>\n",
              "      <td>-6.633066</td>\n",
              "    </tr>\n",
              "    <tr>\n",
              "      <th>25%</th>\n",
              "      <td>108.042500</td>\n",
              "      <td>108.942500</td>\n",
              "      <td>106.972500</td>\n",
              "      <td>108.007500</td>\n",
              "      <td>2.120714e+07</td>\n",
              "      <td>0.000000</td>\n",
              "      <td>1.000000</td>\n",
              "      <td>22.170235</td>\n",
              "      <td>22.433992</td>\n",
              "      <td>21.948836</td>\n",
              "      <td>22.201030</td>\n",
              "      <td>1.133450e+08</td>\n",
              "      <td>1.033811</td>\n",
              "      <td>-0.603549</td>\n",
              "    </tr>\n",
              "    <tr>\n",
              "      <th>50%</th>\n",
              "      <td>121.585000</td>\n",
              "      <td>122.504950</td>\n",
              "      <td>120.640000</td>\n",
              "      <td>121.755000</td>\n",
              "      <td>3.248325e+07</td>\n",
              "      <td>0.000000</td>\n",
              "      <td>1.000000</td>\n",
              "      <td>25.781510</td>\n",
              "      <td>26.055842</td>\n",
              "      <td>25.511496</td>\n",
              "      <td>25.789823</td>\n",
              "      <td>1.681963e+08</td>\n",
              "      <td>1.456946</td>\n",
              "      <td>0.046380</td>\n",
              "    </tr>\n",
              "    <tr>\n",
              "      <th>75%</th>\n",
              "      <td>156.905000</td>\n",
              "      <td>157.809625</td>\n",
              "      <td>155.744975</td>\n",
              "      <td>156.515000</td>\n",
              "      <td>4.673778e+07</td>\n",
              "      <td>0.000000</td>\n",
              "      <td>1.000000</td>\n",
              "      <td>29.329099</td>\n",
              "      <td>29.541994</td>\n",
              "      <td>29.133958</td>\n",
              "      <td>29.362853</td>\n",
              "      <td>2.394642e+08</td>\n",
              "      <td>1.965879</td>\n",
              "      <td>0.705480</td>\n",
              "    </tr>\n",
              "    <tr>\n",
              "      <th>max</th>\n",
              "      <td>649.900000</td>\n",
              "      <td>651.260000</td>\n",
              "      <td>644.470000</td>\n",
              "      <td>647.350000</td>\n",
              "      <td>1.895606e+08</td>\n",
              "      <td>3.290000</td>\n",
              "      <td>7.000000</td>\n",
              "      <td>42.125703</td>\n",
              "      <td>42.628488</td>\n",
              "      <td>42.065561</td>\n",
              "      <td>42.440845</td>\n",
              "      <td>1.065523e+09</td>\n",
              "      <td>16.291699</td>\n",
              "      <td>8.696110</td>\n",
              "    </tr>\n",
              "  </tbody>\n",
              "</table>\n",
              "</div>"
            ],
            "text/plain": [
              "              Open         High  ...       HL_PCT   PCT_Change\n",
              "count  1090.000000  1090.000000  ...  1090.000000  1090.000000\n",
              "mean    194.564537   196.114735  ...     1.649472     0.026796\n",
              "std     160.562848   161.812898  ...     0.972525     1.147303\n",
              "min      90.000000    90.700000  ...     0.438218    -6.633066\n",
              "25%     108.042500   108.942500  ...     1.033811    -0.603549\n",
              "50%     121.585000   122.504950  ...     1.456946     0.046380\n",
              "75%     156.905000   157.809625  ...     1.965879     0.705480\n",
              "max     649.900000   651.260000  ...    16.291699     8.696110\n",
              "\n",
              "[8 rows x 14 columns]"
            ]
          },
          "metadata": {
            "tags": []
          },
          "execution_count": 47
        }
      ]
    },
    {
      "cell_type": "code",
      "metadata": {
        "id": "rpI5iWs9iFkV"
      },
      "source": [
        "import math as m"
      ],
      "execution_count": 48,
      "outputs": []
    },
    {
      "cell_type": "code",
      "metadata": {
        "colab": {
          "base_uri": "https://localhost:8080/",
          "height": 225
        },
        "id": "tJtl5k_bj0Hz",
        "outputId": "4d0640ba-af76-4416-e64c-03210327df79"
      },
      "source": [
        "features = ['Adj_Close','PCT_Change','HL_PCT','Adj_Volume']\r\n",
        "df = df[features]\r\n",
        "df.head()"
      ],
      "execution_count": 49,
      "outputs": [
        {
          "output_type": "execute_result",
          "data": {
            "text/html": [
              "<div>\n",
              "<style scoped>\n",
              "    .dataframe tbody tr th:only-of-type {\n",
              "        vertical-align: middle;\n",
              "    }\n",
              "\n",
              "    .dataframe tbody tr th {\n",
              "        vertical-align: top;\n",
              "    }\n",
              "\n",
              "    .dataframe thead th {\n",
              "        text-align: right;\n",
              "    }\n",
              "</style>\n",
              "<table border=\"1\" class=\"dataframe\">\n",
              "  <thead>\n",
              "    <tr style=\"text-align: right;\">\n",
              "      <th></th>\n",
              "      <th>Adj_Close</th>\n",
              "      <th>PCT_Change</th>\n",
              "      <th>HL_PCT</th>\n",
              "      <th>Adj_Volume</th>\n",
              "    </tr>\n",
              "    <tr>\n",
              "      <th>Date</th>\n",
              "      <th></th>\n",
              "      <th></th>\n",
              "      <th></th>\n",
              "      <th></th>\n",
              "    </tr>\n",
              "  </thead>\n",
              "  <tbody>\n",
              "    <tr>\n",
              "      <th>2013-09-03</th>\n",
              "      <td>15.476472</td>\n",
              "      <td>-0.916650</td>\n",
              "      <td>2.711941</td>\n",
              "      <td>331928800.0</td>\n",
              "    </tr>\n",
              "    <tr>\n",
              "      <th>2013-09-04</th>\n",
              "      <td>15.796753</td>\n",
              "      <td>-0.173953</td>\n",
              "      <td>1.195129</td>\n",
              "      <td>345032800.0</td>\n",
              "    </tr>\n",
              "    <tr>\n",
              "      <th>2013-09-05</th>\n",
              "      <td>15.688388</td>\n",
              "      <td>-0.995502</td>\n",
              "      <td>1.421447</td>\n",
              "      <td>236367600.0</td>\n",
              "    </tr>\n",
              "    <tr>\n",
              "      <th>2013-09-06</th>\n",
              "      <td>15.781833</td>\n",
              "      <td>-0.044138</td>\n",
              "      <td>1.892738</td>\n",
              "      <td>359525600.0</td>\n",
              "    </tr>\n",
              "    <tr>\n",
              "      <th>2013-09-09</th>\n",
              "      <td>16.033661</td>\n",
              "      <td>0.231683</td>\n",
              "      <td>0.877176</td>\n",
              "      <td>340687200.0</td>\n",
              "    </tr>\n",
              "  </tbody>\n",
              "</table>\n",
              "</div>"
            ],
            "text/plain": [
              "            Adj_Close  PCT_Change    HL_PCT   Adj_Volume\n",
              "Date                                                    \n",
              "2013-09-03  15.476472   -0.916650  2.711941  331928800.0\n",
              "2013-09-04  15.796753   -0.173953  1.195129  345032800.0\n",
              "2013-09-05  15.688388   -0.995502  1.421447  236367600.0\n",
              "2013-09-06  15.781833   -0.044138  1.892738  359525600.0\n",
              "2013-09-09  16.033661    0.231683  0.877176  340687200.0"
            ]
          },
          "metadata": {
            "tags": []
          },
          "execution_count": 49
        }
      ]
    },
    {
      "cell_type": "code",
      "metadata": {
        "id": "4R-t02lqo65u"
      },
      "source": [
        "pred_feature = 'Adj_Close'\r\n",
        "df.fillna(value=99999, inplace=True)\r\n",
        "no_of_var = int(m.ceil(0.1 * len(df)))"
      ],
      "execution_count": 50,
      "outputs": []
    },
    {
      "cell_type": "code",
      "metadata": {
        "colab": {
          "base_uri": "https://localhost:8080/",
          "height": 225
        },
        "id": "7VFBVaSEOFJ_",
        "outputId": "e3ab9128-ea43-45cc-d3a7-1d25b106613d"
      },
      "source": [
        "df['label'] = df[pred_feature].shift(-no_of_var)\r\n",
        "df.head()\r\n"
      ],
      "execution_count": 51,
      "outputs": [
        {
          "output_type": "execute_result",
          "data": {
            "text/html": [
              "<div>\n",
              "<style scoped>\n",
              "    .dataframe tbody tr th:only-of-type {\n",
              "        vertical-align: middle;\n",
              "    }\n",
              "\n",
              "    .dataframe tbody tr th {\n",
              "        vertical-align: top;\n",
              "    }\n",
              "\n",
              "    .dataframe thead th {\n",
              "        text-align: right;\n",
              "    }\n",
              "</style>\n",
              "<table border=\"1\" class=\"dataframe\">\n",
              "  <thead>\n",
              "    <tr style=\"text-align: right;\">\n",
              "      <th></th>\n",
              "      <th>Adj_Close</th>\n",
              "      <th>PCT_Change</th>\n",
              "      <th>HL_PCT</th>\n",
              "      <th>Adj_Volume</th>\n",
              "      <th>label</th>\n",
              "    </tr>\n",
              "    <tr>\n",
              "      <th>Date</th>\n",
              "      <th></th>\n",
              "      <th></th>\n",
              "      <th></th>\n",
              "      <th></th>\n",
              "      <th></th>\n",
              "    </tr>\n",
              "  </thead>\n",
              "  <tbody>\n",
              "    <tr>\n",
              "      <th>2013-09-03</th>\n",
              "      <td>15.476472</td>\n",
              "      <td>-0.916650</td>\n",
              "      <td>2.711941</td>\n",
              "      <td>331928800.0</td>\n",
              "      <td>16.656531</td>\n",
              "    </tr>\n",
              "    <tr>\n",
              "      <th>2013-09-04</th>\n",
              "      <td>15.796753</td>\n",
              "      <td>-0.173953</td>\n",
              "      <td>1.195129</td>\n",
              "      <td>345032800.0</td>\n",
              "      <td>16.954931</td>\n",
              "    </tr>\n",
              "    <tr>\n",
              "      <th>2013-09-05</th>\n",
              "      <td>15.688388</td>\n",
              "      <td>-0.995502</td>\n",
              "      <td>1.421447</td>\n",
              "      <td>236367600.0</td>\n",
              "      <td>17.178330</td>\n",
              "    </tr>\n",
              "    <tr>\n",
              "      <th>2013-09-06</th>\n",
              "      <td>15.781833</td>\n",
              "      <td>-0.044138</td>\n",
              "      <td>1.892738</td>\n",
              "      <td>359525600.0</td>\n",
              "      <td>17.177048</td>\n",
              "    </tr>\n",
              "    <tr>\n",
              "      <th>2013-09-09</th>\n",
              "      <td>16.033661</td>\n",
              "      <td>0.231683</td>\n",
              "      <td>0.877176</td>\n",
              "      <td>340687200.0</td>\n",
              "      <td>17.449806</td>\n",
              "    </tr>\n",
              "  </tbody>\n",
              "</table>\n",
              "</div>"
            ],
            "text/plain": [
              "            Adj_Close  PCT_Change    HL_PCT   Adj_Volume      label\n",
              "Date                                                               \n",
              "2013-09-03  15.476472   -0.916650  2.711941  331928800.0  16.656531\n",
              "2013-09-04  15.796753   -0.173953  1.195129  345032800.0  16.954931\n",
              "2013-09-05  15.688388   -0.995502  1.421447  236367600.0  17.178330\n",
              "2013-09-06  15.781833   -0.044138  1.892738  359525600.0  17.177048\n",
              "2013-09-09  16.033661    0.231683  0.877176  340687200.0  17.449806"
            ]
          },
          "metadata": {
            "tags": []
          },
          "execution_count": 51
        }
      ]
    },
    {
      "cell_type": "code",
      "metadata": {
        "id": "U2n_FcfoRsPC"
      },
      "source": [
        "X=np.array(df.drop(['label'], axis=1))\r\n"
      ],
      "execution_count": 52,
      "outputs": []
    },
    {
      "cell_type": "code",
      "metadata": {
        "id": "spc529deRsDQ"
      },
      "source": [
        "X = preprocessing.scale(X)\r\n",
        "X_lately = X[-no_of_var:]\r\n"
      ],
      "execution_count": 53,
      "outputs": []
    },
    {
      "cell_type": "code",
      "metadata": {
        "id": "38z45PDlRr_z"
      },
      "source": [
        "X = X[:-no_of_var]\r\n",
        "df.dropna(inplace=True)\r\n",
        "y = np.array(df['label'])\r\n",
        "X_train, X_test, y_train, y_test = train_test_split(X, y, test_size=0.2)"
      ],
      "execution_count": 54,
      "outputs": []
    },
    {
      "cell_type": "code",
      "metadata": {
        "colab": {
          "base_uri": "https://localhost:8080/"
        },
        "id": "N6T2j0EaRr8n",
        "outputId": "74615037-3375-4968-937d-3b343f36723f"
      },
      "source": [
        "from sklearn.linear_model import LinearRegression\r\n",
        "clf1 = LinearRegression()\r\n",
        "\r\n",
        "clf1.fit(X_train, y_train)\r\n",
        "\r\n",
        "y_pred1 = clf1.predict(X_test)\r\n",
        "print('the coefficient of determination R^2 of the prediction:',clf1.score(X_test, y_test))\r\n",
        "print(\"Mean squared error:\",mean_squared_error(y_test, y_pred1))"
      ],
      "execution_count": 55,
      "outputs": [
        {
          "output_type": "stream",
          "text": [
            "the coefficient of determination R^2 of the prediction: 0.7047610735477723\n",
            "Mean squared error: 11.765414803635663\n"
          ],
          "name": "stdout"
        }
      ]
    },
    {
      "cell_type": "code",
      "metadata": {
        "colab": {
          "base_uri": "https://localhost:8080/",
          "height": 834
        },
        "id": "G9bSXxuzo6p_",
        "outputId": "eff81040-5f96-484f-a87f-bf225dae4f50"
      },
      "source": [
        "import matplotlib.pyplot as plt\r\n",
        "\r\n",
        "corr_stocks=df.corr()\r\n",
        "corr_stocks=np.absolute(corr_stocks)\r\n",
        "print(corr_stocks)\r\n",
        "plt.figure(figsize=(12, 10))\r\n",
        "plt.imshow(corr_stocks, cmap='RdYlGn', interpolation='none', aspect='auto')\r\n",
        "plt.xticks(range(len(corr_stocks)), corr_stocks.columns, rotation='vertical')\r\n",
        "plt.yticks(range(len(corr_stocks)), corr_stocks.columns);\r\n",
        "plt.suptitle('Stock Correlations Heat Map', fontsize=15, fontweight='bold')\r\n",
        "plt.show()\r\n",
        "print('-------------------------------------------------')"
      ],
      "execution_count": 56,
      "outputs": [
        {
          "output_type": "stream",
          "text": [
            "            Adj_Close  PCT_Change    HL_PCT  Adj_Volume     label\n",
            "Adj_Close    1.000000    0.037675  0.105031    0.541426  0.806341\n",
            "PCT_Change   0.037675    1.000000  0.051874    0.084372  0.048748\n",
            "HL_PCT       0.105031    0.051874  1.000000    0.506329  0.194660\n",
            "Adj_Volume   0.541426    0.084372  0.506329    1.000000  0.535188\n",
            "label        0.806341    0.048748  0.194660    0.535188  1.000000\n"
          ],
          "name": "stdout"
        },
        {
          "output_type": "display_data",
          "data": {
            "image/png": "[encoded data removed]",
            "text/plain": [
              "<Figure size 864x720 with 1 Axes>"
            ]
          },
          "metadata": {
            "tags": [],
            "needs_background": "light"
          }
        },
        {
          "output_type": "stream",
          "text": [
            "-------------------------------------------------\n"
          ],
          "name": "stdout"
        }
      ]
    },
    {
      "cell_type": "code",
      "metadata": {
        "colab": {
          "base_uri": "https://localhost:8080/"
        },
        "id": "86lCCdRdvD0K",
        "outputId": "c9617f40-22a6-45df-f464-a75348c06d8b"
      },
      "source": [
        "from sklearn import preprocessing\r\n",
        "from sklearn import linear_model\r\n",
        "from sklearn.model_selection import train_test_split\r\n",
        "from sklearn.metrics import mean_squared_error\r\n",
        "#use high low price change and volume as two features\r\n",
        "predictor=df[['HL_PCT','Adj_Volume']]\r\n",
        "#normalize the predictor\r\n",
        "predictor=preprocessing.scale(predictor)\r\n",
        "price=df['Adj_Close']\r\n",
        "predictor=np.array(predictor)\r\n",
        "price=np.array(price)\r\n",
        "#using 90% as training data and 10% as testing data\r\n",
        "X_train, X_test, y_train, y_test =train_test_split(predictor , price, test_size=0.1,shuffle= False)\r\n",
        "clf = linear_model.LinearRegression(n_jobs=-1)\r\n",
        "clf.fit(X_train, y_train)\r\n",
        "y_pred1 = clf.predict(X_test)\r\n",
        "print('the coefficient of determination R^2 of the prediction:',clf.score(X_test, y_test))\r\n",
        "print(\"Mean squared error:\",mean_squared_error(y_test, y_pred1))"
      ],
      "execution_count": 57,
      "outputs": [
        {
          "output_type": "stream",
          "text": [
            "the coefficient of determination R^2 of the prediction: -51.60196389174463\n",
            "Mean squared error: 82.41479146858246\n"
          ],
          "name": "stdout"
        },
        {
          "output_type": "stream",
          "text": [
            "/usr/local/lib/python3.6/dist-packages/sklearn/preprocessing/_data.py:173: UserWarning: Numerical issues were encountered when centering the data and might not be solved. Dataset may contain too large values. You may need to prescale your features.\n",
            "  warnings.warn(\"Numerical issues were encountered \"\n"
          ],
          "name": "stderr"
        }
      ]
    },
    {
      "cell_type": "code",
      "metadata": {
        "colab": {
          "base_uri": "https://localhost:8080/"
        },
        "id": "2QpFob7svgVe",
        "outputId": "9096be60-ccd7-4d01-f2f2-f66aabeaeb40"
      },
      "source": [
        "predictor2=df[['Adj_Close','HL_PCT','Adj_Volume']]\r\n",
        "predictor2=preprocessing.scale(predictor2)\r\n",
        "clf2 = linear_model.LinearRegression(n_jobs=-1)\r\n",
        "X_train2, X_test2, y_train2, y_test2 =train_test_split(predictor2 , price, test_size=0.1,shuffle= False)\r\n",
        "clf2.fit(X_train2, y_train2)\r\n",
        "forecast_set2 = clf2.predict(X_test2)\r\n",
        "print('the coefficient of determination R^2 of the prediction:',clf2.score(X_test2, y_test2))\r\n",
        "print(\"Mean squared error:\",mean_squared_error(y_test, forecast_set2))\r\n",
        "print('Mean squared error is almost 0, the prediction is very well.')"
      ],
      "execution_count": 58,
      "outputs": [
        {
          "output_type": "stream",
          "text": [
            "the coefficient of determination R^2 of the prediction: 1.0\n",
            "Mean squared error: 1.9327889007111982e-28\n",
            "Mean squared error is almost 0, the prediction is very well.\n"
          ],
          "name": "stdout"
        },
        {
          "output_type": "stream",
          "text": [
            "/usr/local/lib/python3.6/dist-packages/sklearn/preprocessing/_data.py:173: UserWarning: Numerical issues were encountered when centering the data and might not be solved. Dataset may contain too large values. You may need to prescale your features.\n",
            "  warnings.warn(\"Numerical issues were encountered \"\n"
          ],
          "name": "stderr"
        }
      ]
    }
  ]
}